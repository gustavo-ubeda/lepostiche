{
 "cells": [
  {
   "cell_type": "code",
   "execution_count": 1,
   "metadata": {},
   "outputs": [
    {
     "name": "stderr",
     "output_type": "stream",
     "text": [
      "c:\\Users\\gustavo.ubeda\\AppData\\Local\\Programs\\Python\\Python38\\lib\\site-packages\\numpy\\_distributor_init.py:30: UserWarning: loaded more than 1 DLL from .libs:\n",
      "c:\\Users\\gustavo.ubeda\\AppData\\Local\\Programs\\Python\\Python38\\lib\\site-packages\\numpy\\.libs\\libopenblas.FB5AE2TYXYH2IJRDKGDGQ3XBKLKTF43H.gfortran-win_amd64.dll\n",
      "c:\\Users\\gustavo.ubeda\\AppData\\Local\\Programs\\Python\\Python38\\lib\\site-packages\\numpy\\.libs\\libopenblas.XWYDX2IKJW2NMTWSFYNGFUWKQU3LYTCZ.gfortran-win_amd64.dll\n",
      "  warnings.warn(\"loaded more than 1 DLL from .libs:\"\n"
     ]
    }
   ],
   "source": [
    "import pandas as pd, os, tqdm, numpy as np"
   ]
  },
  {
   "cell_type": "markdown",
   "metadata": {},
   "source": [
    "# Total Express"
   ]
  },
  {
   "cell_type": "code",
   "execution_count": 2,
   "metadata": {},
   "outputs": [
    {
     "name": "stdout",
     "output_type": "stream",
     "text": [
      "Iniciando o processamento de dados da TOTAL\n",
      "\n",
      "\n",
      "Extraindo as abrangências:\n",
      "\n",
      "[OK] SANTOS-SP.xlsx\n",
      "[OK] RIBEIRÃO PRETO-SP.xlsx\n",
      "[OK] SÃO PAULO-SP.xlsx\n",
      "[OK] CAMPINAS-SP.xlsx\n",
      "[OK] NITERÓI-RJ.xlsx\n",
      "[OK] RIO DE JANEIRO-RJ.xlsx\n",
      "[OK] BELO HORIZONTE-MG.xlsx\n",
      "[OK] VITÓRIA-ES.xlsx\n",
      "[OK] SÃO JOSÉ DOS CAMPOS-SP.xlsx\n"
     ]
    }
   ],
   "source": [
    "path_files = \"./total_express/abrangencias\"\n",
    "col_index_dropna = 1\n",
    "\n",
    "dfs = []\n",
    "print(\"Iniciando o processamento de dados da TOTAL\\n\")\n",
    "print(\"\\nExtraindo as abrangências:\\n\")\n",
    "for file in os.listdir(path_files):\n",
    "    try:\n",
    "        df = pd.read_excel(f\"{path_files}/{file}\")\n",
    "\n",
    "        df.dropna(subset=df.columns[col_index_dropna], inplace=True)\n",
    "        df.reset_index(inplace=True, drop=True)\n",
    "        df.columns = df.iloc[0]\n",
    "        df = df[1:]\n",
    "        df.dropna(axis=1, how='all', inplace=True)\n",
    "\n",
    "        cods_name = file.split(\".\")[0].split(\"-\")\n",
    "        df[\"Cidade-UF-Origem\"] = cods_name[0] + \"-\" + cods_name[1]\n",
    "\n",
    "        dfs.append(df)\n",
    "        print(f\"[OK] {file}\")\n",
    "    except:\n",
    "        pass\n",
    "\n",
    "abrangencias = pd.concat(dfs).reset_index(drop=True)"
   ]
  },
  {
   "cell_type": "code",
   "execution_count": 3,
   "metadata": {},
   "outputs": [
    {
     "name": "stdout",
     "output_type": "stream",
     "text": [
      "\n",
      "Extraindo as tabelas de frete:\n",
      "\n",
      "[OK] STANDARD-BARUERI-SP.xlsb\n",
      "[OK] SHIPPING-BELO HORIZONTE-MG.xlsb\n",
      "[OK] SHIPPING-VITÓRIA-ES.xlsb\n",
      "[OK] SHIPPING-SÃO PAULO-SP.xls\n",
      "[OK] SHIPPING-SÃO JOSÉ DOS CAMPOS-SP.xlsb\n",
      "[OK] SHIPPING-SANTOS-SP.xlsb\n",
      "[OK] SHIPPING-RIO DE JANEIRO-RJ.xlsb\n",
      "[OK] SHIPPING-RIBEIRÃO PRETO-SP.xlsb\n",
      "[OK] SHIPPING-NITERÓI-RJ.xlsb\n",
      "[OK] SHIPPING-JUIZ DE FORA-MG.xlsb\n",
      "[OK] SHIPPING-INDAITUBA-SP.xlsb\n",
      "[OK] SHIPPING-CAMPINAS-SP.xlsb\n"
     ]
    }
   ],
   "source": [
    "path_files = \"./total_express/tabelas_de_frete\"\n",
    "col_index_dropna = 10\n",
    "\n",
    "dfs = []\n",
    "print(\"\\nExtraindo as tabelas de frete:\\n\")\n",
    "for file in os.listdir(path_files):\n",
    "    try:\n",
    "        try:\n",
    "            df = pd.read_excel(f\"{path_files}/{file}\", engine='pyxlsb', sheet_name=\"Tabela_Unificada\")\n",
    "        except:\n",
    "            df = pd.read_excel(f\"{path_files}/{file}\", sheet_name=\"Tabela_Unificada\")\n",
    "\n",
    "        df.dropna(subset=df.columns[col_index_dropna], inplace=True)\n",
    "        df.reset_index(inplace=True, drop=True)\n",
    "        df.columns = df.iloc[1]\n",
    "        df = df[2:]\n",
    "        df.dropna(axis=1, how='all', inplace=True)\n",
    "\n",
    "        dfs_ = []\n",
    "        for cod in df.columns[2:]:\n",
    "            df_ = df[df.columns[:2]].copy()\n",
    "            df_[\"Cod\"] = cod\n",
    "            df_[\"Frete\"] = df[cod]\n",
    "            dfs_.append(df_)\n",
    "        dfs_ = pd.concat(dfs_).reset_index(drop=True)\n",
    "\n",
    "        cods_name = file.split(\".\")[0].split(\"-\")\n",
    "        dfs_[\"Tipo-Envio\"] = cods_name[0]\n",
    "        dfs_[\"Cidade-UF-Origem\"] = cods_name[1] + \"-\" + cods_name[2]\n",
    "        dfs_[\"Key\"] = \"-\".join(cods_name[:3])\n",
    "\n",
    "        dfs.append(dfs_)\n",
    "\n",
    "        print(f\"[OK] {file}\")\n",
    "    except:\n",
    "        pass\n",
    "\n",
    "fretes = pd.concat(dfs).reset_index(drop=True)\n",
    "fretes = fretes[fretes[\"Inicial\"] != \"Adicional\"]"
   ]
  },
  {
   "cell_type": "code",
   "execution_count": 4,
   "metadata": {},
   "outputs": [
    {
     "name": "stdout",
     "output_type": "stream",
     "text": [
      "\n",
      "Extraindo as faturas:\n",
      "\n",
      "[OK] QZ1-10-2023 - SHIPPING-BELO HORIZONTE-MG-CT.csv\n",
      "[OK] QZ1-10-2023 - SHIPPING-NITERÓI-RJ-CT.csv\n",
      "[OK] QZ1-10-2023 - SHIPPING-SÃO PAULO-SP-CT.csv\n",
      "[OK] QZ1-10-2023 - SHIPPING-SÃO JOSÉ DOS CAMPOS-SP-CT.csv\n",
      "[OK] QZ1-10-2023 - SHIPPING-CAMPINAS-SP-CT.csv\n",
      "[OK] QZ1-10-2023 - SHIPPING-SANTOS-SP-CT.csv\n",
      "[OK] QZ1-10-2023 - SHIPPING-VITÓRIA-ES-CT.csv\n",
      "[OK] QZ2-10-2023 - SHIPPING-CAMPINAS-SP-CT.xlsx\n",
      "[OK] QZ2-10-2023 - SHIPPING-VITÓRIA-ES-CT.xlsx\n",
      "[OK] QZ2-10-2023 - SHIPPING-SANTOS-SP-CT.csv\n",
      "[OK] QZ2-10-2023 - SHIPPING-NITERÓI-RJ-CT.xlsx\n",
      "[OK] QZ2-10-2023 - SHIPPING-BELO HORIZONTE-MG-CT.xlsx\n",
      "[OK] QZ2-10-2023 - STANDARD-BARUERI-SP.csv\n",
      "\n",
      "Relacionando as faturas as abrangências:\n",
      "\n"
     ]
    },
    {
     "name": "stderr",
     "output_type": "stream",
     "text": [
      "100%|██████████| 865/865 [01:21<00:00, 10.61it/s]\n"
     ]
    }
   ],
   "source": [
    "path_files = \"./total_express/faturas\"\n",
    "col_index_dropna = 1\n",
    "name_faturas = [i for i in os.listdir(path_files) if \".\" not in i]\n",
    "\n",
    "print(\"\\nExtraindo as faturas:\\n\")\n",
    "dfs = []\n",
    "for name_fatura in name_faturas:\n",
    "    for file in os.listdir(f\"{path_files}/{name_fatura}\"):\n",
    "        try:\n",
    "            try:\n",
    "                df = pd.read_csv(f\"{path_files}/{name_fatura}/{file}\", sep=\";\", encoding=\"latin1\", decimal=\",\")\n",
    "            except:\n",
    "                df = pd.read_excel(f\"{path_files}/{name_fatura}/{file}\")\n",
    "            df.dropna(subset=\"ID\", inplace=True)\n",
    "            df.columns = [i.replace(\" \", \"\") for i in df.columns]\n",
    "\n",
    "            cods_name = file.split(\".\")[0].split(\"-\")\n",
    "            df[\"Tipo-Envio\"] = cods_name[0]\n",
    "            df[\"Cidade-UF-Origem\"] = cods_name[1] + \"-\" + cods_name[2]\n",
    "            df[\"Key\"] = \"-\".join(cods_name[:3])\n",
    "            df[\"Fatura-Data\"] = name_fatura\n",
    "\n",
    "            dfs.append(df)\n",
    "            print(f\"[OK] {name_fatura} - {file}\")\n",
    "        except:\n",
    "            pass\n",
    "\n",
    "faturas = pd.concat(dfs).reset_index(drop=True)\n",
    "\n",
    "gcs = []\n",
    "print(\"\\nRelacionando as faturas as abrangências:\\n\")\n",
    "for fat in tqdm.tqdm(faturas.to_dict(orient=\"records\")):\n",
    "    try:\n",
    "        gc = abrangencias[\n",
    "            (abrangencias[\"Cidade-UF-Origem\"] == fat[\"Cidade-UF-Origem\"]) & \n",
    "            (fat[\"CEP\"] >= abrangencias[\"CEP Inicial\"]) &\n",
    "            (fat[\"CEP\"] <= abrangencias[\"CEP Final\"])\n",
    "            ][\"Geografia Comercial\"]\n",
    "        \n",
    "        gcs.append(gc.values[0])\n",
    "    except:\n",
    "        gcs.append(np.nan)\n",
    "\n",
    "faturas[\"GC-Destino\"] = gcs\n",
    "faturas[\"SerieNF\"] = faturas[\"SerieNF\"].astype(int, errors=\"ignore\")"
   ]
  },
  {
   "cell_type": "markdown",
   "metadata": {},
   "source": [
    "## Conferências"
   ]
  },
  {
   "cell_type": "code",
   "execution_count": 5,
   "metadata": {},
   "outputs": [],
   "source": [
    "conf_faturas = []\n",
    "conf_faturas.append(faturas.groupby([\"NotaFiscal\", \"SerieNF\"])[[\"Cidade-UF-Origem\", \"Fatura-Data\", \"Peso\", \"CEP\", \"GC-Destino\", \"Frete\", \"Key\"]].first())\n",
    "conf_faturas = pd.concat(conf_faturas, axis=1).sort_values(\"Frete\")\n",
    "conf_faturas.index.names = [\"nf_numero\", \"serie_nf\"]"
   ]
  },
  {
   "cell_type": "code",
   "execution_count": 36,
   "metadata": {},
   "outputs": [],
   "source": [
    "_itens = pd.read_excel(\"./dados/group_itens.xlsx\", index_col=[0,1])\n",
    "conferencia = conf_faturas.join(_itens)\n",
    "conferencia.sort_values(\"volumes\").dropna(subset=\"volumes\")\n",
    "conferencia = conferencia.sort_values(\"volumes\")"
   ]
  },
  {
   "cell_type": "code",
   "execution_count": 37,
   "metadata": {},
   "outputs": [
    {
     "name": "stdout",
     "output_type": "stream",
     "text": [
      "\n",
      "Calculando o frete real:\n",
      "\n"
     ]
    },
    {
     "name": "stderr",
     "output_type": "stream",
     "text": [
      "  0%|          | 0/831 [00:00<?, ?it/s]"
     ]
    },
    {
     "name": "stderr",
     "output_type": "stream",
     "text": [
      "100%|██████████| 831/831 [00:06<00:00, 131.66it/s]\n"
     ]
    }
   ],
   "source": [
    "fretes_real = []\n",
    "print(\"\\nCalculando o frete real:\\n\")\n",
    "for conf_ in tqdm.tqdm(conferencia.to_dict(orient=\"records\")):\n",
    "    try:\n",
    "        frete_real = fretes[\n",
    "            (fretes[\"Key\"] == conf_[\"Key\"]) & \n",
    "            (fretes[\"Cod\"] == conf_[\"GC-Destino\"]) & \n",
    "            (conf_[\"pesos_cubados_real\"] >= fretes[\"Inicial\"]) &\n",
    "            (conf_[\"pesos_cubados_real\"] <= fretes[\"Final\"])\n",
    "            ][\"Frete\"]\n",
    "        \n",
    "        fretes_real.append(frete_real.values[0])\n",
    "    except:\n",
    "        fretes_real.append(np.nan)\n",
    "\n",
    "conferencia[\"Frete real\"] = fretes_real\n",
    "conferencia[\"Frete-Dif\"] = conferencia[\"Frete\"] - conferencia[\"Frete real\"]"
   ]
  },
  {
   "cell_type": "code",
   "execution_count": 38,
   "metadata": {},
   "outputs": [],
   "source": [
    "list_fat_names = os.listdir(\"./total_express/conferencias\")\n",
    "\n",
    "for name_fatura in name_faturas:\n",
    "    fat_name = f\"{name_fatura}.xlsx\"\n",
    "    if \"[OK] \" + fat_name not in list_fat_names:\n",
    "        conferencia[conferencia[\"Fatura-Data\"]==name_fatura].to_excel(f\"./total_express/conferencias/{fat_name}\")"
   ]
  }
 ],
 "metadata": {
  "kernelspec": {
   "display_name": "Python 3",
   "language": "python",
   "name": "python3"
  },
  "language_info": {
   "codemirror_mode": {
    "name": "ipython",
    "version": 3
   },
   "file_extension": ".py",
   "mimetype": "text/x-python",
   "name": "python",
   "nbconvert_exporter": "python",
   "pygments_lexer": "ipython3",
   "version": "3.8.10"
  },
  "orig_nbformat": 4
 },
 "nbformat": 4,
 "nbformat_minor": 2
}
