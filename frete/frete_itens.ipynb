{
 "cells": [
  {
   "cell_type": "code",
   "execution_count": 114,
   "metadata": {},
   "outputs": [],
   "source": [
    "import pandas as pd"
   ]
  },
  {
   "cell_type": "code",
   "execution_count": 115,
   "metadata": {},
   "outputs": [],
   "source": [
    "tipo_peso_cubado = {\n",
    "    \"Mala P\": 8,\n",
    "    \"Mala M\": 15,\n",
    "    \"Mala G\": 20,\n",
    "    \"Mochilete\": 8,\n",
    "    \"Sacola com roda\": 8,\n",
    "    \"Pasta com roda\": 8,\n",
    "}"
   ]
  },
  {
   "cell_type": "code",
   "execution_count": 116,
   "metadata": {},
   "outputs": [],
   "source": [
    "itens = pd.read_excel(f\"./dados/itens.xlsx\")"
   ]
  },
  {
   "cell_type": "code",
   "execution_count": 117,
   "metadata": {},
   "outputs": [],
   "source": [
    "tipos_reais = []\n",
    "pesos_cubados = []\n",
    "for dg in itens[[\"descricao_item\", \"GRADE\", \"peso_liquido\"]].values:\n",
    "    tipo_real = \"\"\n",
    "    for tipo in tipo_peso_cubado.keys():\n",
    "        if \"MALA\" in tipo.upper():\n",
    "            if \"MALA\" in str(dg[0]).upper() and tipo.split(\" \")[1].upper() in str(dg[1]).upper():\n",
    "                tipo_real = tipo\n",
    "        else:\n",
    "            if tipo.upper() in str(dg[0]).upper():\n",
    "                tipo_real = tipo\n",
    "\n",
    "    if tipo_real == \"\":\n",
    "        tipos_reais.append(\"Diversos\")\n",
    "        pesos_cubados.append(dg[2])\n",
    "    else:\n",
    "        tipos_reais.append(tipo_real)\n",
    "        pesos_cubados.append(tipo_peso_cubado[tipo_real])\n",
    "\n",
    "itens[\"tipos_reais\"] = tipos_reais\n",
    "itens[\"pesos_cubados\"] = pesos_cubados\n",
    "itens[\"pesos_cubados_real\"] = itens[\"pesos_cubados\"]*itens[\"volumes\"]\n",
    "\n",
    "itens.dropna(subset=\"serie_nf\", inplace=True)\n",
    "itens[\"descricao_item\"] = \">\" + itens[\"volumes\"].astype(\"string\") + \" \" + itens[\"GRADE\"] + \"< \" + itens[\"descricao_item\"]\n",
    "itens[\"descricao_item\"] = itens[\"descricao_item\"].str.replace(\"  \", \"\")\n",
    "itens[\"serie_nf\"] = itens[\"serie_nf\"].astype(\"int64\")"
   ]
  },
  {
   "cell_type": "code",
   "execution_count": 119,
   "metadata": {},
   "outputs": [],
   "source": [
    "_itens = []\n",
    "_itens.append(itens.groupby([\"nf_numero\", \"serie_nf\"])[\"descricao_item\"].apply(lambda x: \" || \".join(map(str, x))))\n",
    "_itens.append(itens.groupby([\"nf_numero\", \"serie_nf\"])[[\"valor_total\", \"chave_nfe\", \"filial\", \n",
    "    \"CNPJ\", \"pedido\", \"valor_total_itens\", \"frete\", \"largura\", \"altura\", \"COMPRIMENTO\"]].first())\n",
    "_itens.append(itens.groupby([\"nf_numero\", \"serie_nf\"])[[\"volumes\", \"pesos_cubados_real\"]].sum())\n",
    "_itens = pd.concat(_itens, axis=1).sort_values(\"volumes\")\n",
    "_itens.to_excel(\"./dados/group_itens.xlsx\")"
   ]
  }
 ],
 "metadata": {
  "kernelspec": {
   "display_name": "Python 3",
   "language": "python",
   "name": "python3"
  },
  "language_info": {
   "codemirror_mode": {
    "name": "ipython",
    "version": 3
   },
   "file_extension": ".py",
   "mimetype": "text/x-python",
   "name": "python",
   "nbconvert_exporter": "python",
   "pygments_lexer": "ipython3",
   "version": "3.8.10"
  }
 },
 "nbformat": 4,
 "nbformat_minor": 2
}
