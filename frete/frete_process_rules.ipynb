{
 "cells": [
  {
   "cell_type": "code",
   "execution_count": 1,
   "metadata": {},
   "outputs": [
    {
     "name": "stderr",
     "output_type": "stream",
     "text": [
      "c:\\Users\\gustavo.ubeda\\AppData\\Local\\Programs\\Python\\Python38\\lib\\site-packages\\numpy\\_distributor_init.py:30: UserWarning: loaded more than 1 DLL from .libs:\n",
      "c:\\Users\\gustavo.ubeda\\AppData\\Local\\Programs\\Python\\Python38\\lib\\site-packages\\numpy\\.libs\\libopenblas.FB5AE2TYXYH2IJRDKGDGQ3XBKLKTF43H.gfortran-win_amd64.dll\n",
      "c:\\Users\\gustavo.ubeda\\AppData\\Local\\Programs\\Python\\Python38\\lib\\site-packages\\numpy\\.libs\\libopenblas.XWYDX2IKJW2NMTWSFYNGFUWKQU3LYTCZ.gfortran-win_amd64.dll\n",
      "  warnings.warn(\"loaded more than 1 DLL from .libs:\"\n"
     ]
    }
   ],
   "source": [
    "import pandas as pd"
   ]
  },
  {
   "cell_type": "code",
   "execution_count": 2,
   "metadata": {},
   "outputs": [],
   "source": [
    "prod_fam_order = [\"Mala G\", \"Mala M\", \"Mala P\", \"Diversos\"]"
   ]
  },
  {
   "cell_type": "code",
   "execution_count": 3,
   "metadata": {},
   "outputs": [],
   "source": [
    "def optime_space(new_df, nota_fiscal):\n",
    "    group = [i for i in range(len(prod_fam_order))]\n",
    "    \n",
    "    df_nota = []\n",
    "    for nf_data in new_df:\n",
    "        if nf_data[\"nota_fiscal\"] == nota_fiscal:\n",
    "            df_nota.append(nf_data)\n",
    "\n",
    "    includ_ids = []\n",
    "    remove_ids = []\n",
    "\n",
    "    for i in range(len(df_nota)):\n",
    "        id = 0\n",
    "        used_order = []\n",
    "        used_id = []\n",
    "        min_ord = 10000000\n",
    "        for item in df_nota:\n",
    "            if item[\"order\"] in group and item[\"order\"] not in used_order and id not in remove_ids:\n",
    "                used_order.append(item[\"order\"])\n",
    "                used_id.append(id)\n",
    "                if item[\"order\"] < min_ord:\n",
    "                    min_ord = item[\"order\"]\n",
    "                    id_min_ord = id\n",
    "            id += 1\n",
    "\n",
    "\n",
    "        if len(remove_ids) == len(df_nota):\n",
    "            break\n",
    "        remove_ids += used_id\n",
    "        includ_ids.append(id_min_ord)\n",
    "\n",
    "    new_df_nota = []\n",
    "    for i in range(len(df_nota)):\n",
    "        if i in includ_ids:\n",
    "            new_df_nota.append(df_nota[i])\n",
    "\n",
    "    return new_df_nota"
   ]
  },
  {
   "cell_type": "code",
   "execution_count": 4,
   "metadata": {},
   "outputs": [],
   "source": [
    "df = pd.read_excel(\"./dados/notas_itens.xlsx\")"
   ]
  },
  {
   "cell_type": "code",
   "execution_count": 5,
   "metadata": {},
   "outputs": [],
   "source": [
    "new_df = []\n",
    "for data in df.to_dict(orient=\"records\"):\n",
    "    qtd = data[\"quantidade\"]\n",
    "    for i in range(qtd):\n",
    "        data[\"quantidade\"] = 1\n",
    "        data[\"order\"] = prod_fam_order.index(data[\"produto_familia\"])\n",
    "        new_df.append(data)"
   ]
  },
  {
   "cell_type": "code",
   "execution_count": 6,
   "metadata": {},
   "outputs": [],
   "source": [
    "optimize_df = []\n",
    "for nf in list(set([i[\"nota_fiscal\"] for i in new_df])):\n",
    "    optimize_df += optime_space(new_df, nf)"
   ]
  },
  {
   "cell_type": "code",
   "execution_count": 8,
   "metadata": {},
   "outputs": [],
   "source": [
    "pd.DataFrame(optimize_df).to_csv(\"./dados/notas_itens_otimizados.csv\", index=False)"
   ]
  }
 ],
 "metadata": {
  "kernelspec": {
   "display_name": "Python 3",
   "language": "python",
   "name": "python3"
  },
  "language_info": {
   "codemirror_mode": {
    "name": "ipython",
    "version": 3
   },
   "file_extension": ".py",
   "mimetype": "text/x-python",
   "name": "python",
   "nbconvert_exporter": "python",
   "pygments_lexer": "ipython3",
   "version": "3.8.10"
  },
  "orig_nbformat": 4
 },
 "nbformat": 4,
 "nbformat_minor": 2
}
